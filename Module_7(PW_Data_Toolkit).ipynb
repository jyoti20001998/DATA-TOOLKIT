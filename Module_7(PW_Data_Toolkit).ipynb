{
  "nbformat": 4,
  "nbformat_minor": 0,
  "metadata": {
    "colab": {
      "provenance": []
    },
    "kernelspec": {
      "name": "python3",
      "display_name": "Python 3"
    },
    "language_info": {
      "name": "python"
    }
  },
  "cells": [
    {
      "cell_type": "markdown",
      "source": [
        "# Data Toolkit"
      ],
      "metadata": {
        "id": "D-QdjXmkMFzp"
      }
    },
    {
      "cell_type": "markdown",
      "source": [
        "#Q1"
      ],
      "metadata": {
        "id": "aQCRtp4ZMOHP"
      }
    },
    {
      "cell_type": "markdown",
      "source": [
        "--> NumPy (Numerical Python) is a powerful open-source library for numerical computing in Python. It provides support for large, multi-dimensional arrays and matrices, along with a collection of mathematical functions to operate on them efficiently.\n",
        "\n",
        "Why is NumPy Widely Used?\n",
        "\n",
        "\n",
        "What is NumPy, and why is it widely used in Python)\n",
        "ChatGPT said:\n",
        "NumPy (Numerical Python) is a powerful open-source library for numerical computing in Python. It provides support for large, multi-dimensional arrays and matrices, along with a collection of mathematical functions to operate on them efficiently.\n",
        "\n",
        "Why is NumPy Widely Used?\n",
        "Efficient Array Operations:\n",
        "\n",
        "NumPy arrays (ndarray) are faster and more memory-efficient than Python lists.\n",
        "It provides vectorized operations, eliminating the need for explicit loops.\n",
        "Mathematical and Statistical Functions:\n",
        "\n",
        "Includes built-in functions for linear algebra, Fourier transforms, and random number generation.\n",
        "Broadcasting Capability:\n",
        "\n",
        "Allows operations on arrays of different shapes without explicit looping.\n",
        "Interoperability:\n",
        "\n",
        "Easily integrates with other libraries like Pandas, SciPy, Matplotlib, TensorFlow, and scikit-learn.\n",
        "Memory Efficiency:\n",
        "\n",
        "NumPy arrays use less memory compared to Python lists because they store elements of the same data type.\n",
        "Used in Data Science & Machine Learning:\n",
        "\n",
        "Essential for handling large datasets and performing complex numerical computations efficiently."
      ],
      "metadata": {
        "id": "cOAO_FlYMOEW"
      }
    },
    {
      "cell_type": "markdown",
      "source": [
        "#Q2"
      ],
      "metadata": {
        "id": "7IFKLnhzMOBx"
      }
    },
    {
      "cell_type": "markdown",
      "source": [
        "--> Broadcasting in NumPy allows operations on arrays of different shapes without explicit looping. Instead of requiring arrays to have the same shape, NumPy automatically expands the smaller array to match the shape of the larger one, making element-wise operations more efficient."
      ],
      "metadata": {
        "id": "wdcEEc1zMN-m"
      }
    },
    {
      "cell_type": "markdown",
      "source": [
        "#Q3"
      ],
      "metadata": {
        "id": "SpuLuki0MN73"
      }
    },
    {
      "cell_type": "markdown",
      "source": [
        "--> A Pandas DataFrame is a two-dimensional, labeled data structure in Python, similar to a table in a relational database or an Excel spreadsheet. It is part of the Pandas library and is widely used for data manipulation and analysis."
      ],
      "metadata": {
        "id": "02KWsUlaMN42"
      }
    },
    {
      "cell_type": "markdown",
      "source": [
        "#Q4\n"
      ],
      "metadata": {
        "id": "RulPwPKTMN1u"
      }
    },
    {
      "cell_type": "markdown",
      "source": [
        "--> The groupby() method in Pandas is used for grouping data based on a column (or multiple columns) and then applying aggregation or transformation functions to each group. It is especially useful for summarizing and analyzing large datasets."
      ],
      "metadata": {
        "id": "Oq_uxtLZMNy_"
      }
    },
    {
      "cell_type": "markdown",
      "source": [
        "#Q5"
      ],
      "metadata": {
        "id": "v5wymi8EMNv2"
      }
    },
    {
      "cell_type": "markdown",
      "source": [
        "--> Seaborn is a Python data visualization library built on Matplotlib that provides a high-level, easy-to-use interface for creating statistical graphics."
      ],
      "metadata": {
        "id": "SbLeytqJMNsm"
      }
    },
    {
      "cell_type": "markdown",
      "source": [
        "#Q6"
      ],
      "metadata": {
        "id": "usvKsKs4MNom"
      }
    },
    {
      "cell_type": "markdown",
      "source": [
        "--> Both NumPy arrays and Python lists store collections of elements, but they have key differences in terms of performance, functionality, and memory efficiency.\n",
        "\n",
        "1. Speed & Performance\n",
        " NumPy Arrays are faster because they use contiguous memory and perform operations using optimized C code.\n",
        "\n",
        "Python Lists are slower due to their dynamic nature and lack of optimized operations.\n",
        "\n",
        "2. Memory Efficiency\n",
        " NumPy Arrays use less memory since they store elements of the same type in contiguous blocks.\n",
        "\n",
        " Python Lists use more memory because they store elements as references (pointers), requiring extra space.\n",
        "\n",
        "3. Homogeneous vs Heterogeneous Data\n",
        " NumPy Arrays are homogeneous, meaning all elements must be of the same data type (int, float, etc.).\n",
        " Python Lists are heterogeneous, allowing mixed data types."
      ],
      "metadata": {
        "id": "k4kfoftMMNk3"
      }
    },
    {
      "cell_type": "markdown",
      "source": [
        "#Q7"
      ],
      "metadata": {
        "id": "s1KqdgncMNg_"
      }
    },
    {
      "cell_type": "markdown",
      "source": [
        "--> A heatmap is a type of data visualization that uses colors to represent the magnitude of values in a matrix (2D data). It helps to identify patterns, correlations, and trends within datasets at a glance.\n",
        "\n",
        "When Should a Heatmap Be Used?\n",
        " 1. Correlation Analysis (Finding relationships between variables)\n",
        "\n",
        "Helps in feature selection in machine learning.\n",
        "Example: Finding correlations in a dataset.\n",
        " 2. Representing Large Datasets Visually\n",
        "\n",
        "Ideal for summarizing large tables of numbers.\n",
        "Example: Sales performance across regions.\n",
        " 3. Identifying Outliers & Trends\n",
        "\n",
        "Makes anomalies and trends visually obvious.\n",
        "Example: Website traffic over time.\n",
        " 4. Comparing Categories & Intensity Levels\n",
        "\n",
        "Example: Heatmap of disease outbreaks across different cities.\n",
        " 5. Visualizing Confusion Matrices in Machine Learning\n",
        "\n",
        "Example: Model performance in classification tasks"
      ],
      "metadata": {
        "id": "wDSPdxomOoWm"
      }
    },
    {
      "cell_type": "markdown",
      "source": [
        "#Q8"
      ],
      "metadata": {
        "id": "-gyHzA3uOoUG"
      }
    },
    {
      "cell_type": "markdown",
      "source": [
        "--> In NumPy, a vectorized operation refers to performing operations on entire arrays (vectors, matrices, etc.) without the need for explicit loops. These operations are executed at the low-level using optimized C and Fortran libraries, making them faster and more efficient than traditional Python loops."
      ],
      "metadata": {
        "id": "BjFhrxwROoRe"
      }
    },
    {
      "cell_type": "markdown",
      "source": [
        "#Q9"
      ],
      "metadata": {
        "id": "IW-Pe9zqOoO4"
      }
    },
    {
      "cell_type": "markdown",
      "source": [
        "--> Both Matplotlib and Plotly are popular Python libraries for data visualization, but they differ in functionality, interactivity, and ease of use\n",
        "\n",
        "1. Interactivity\n",
        "Matplotlib: Primarily static plots, though some interactive features are available (e.g., plt.pause(), mpl_toolkits.mplot3d, or mplcursors).\n",
        "Plotly: Fully interactive by default—zooming, panning, tooltips, and dynamic updates.\n",
        "\n",
        "2. Ease of Use\n",
        "Matplotlib: Requires more manual effort to customize plots.\n",
        "Plotly: Easier to create visually appealing and interactive plots with minimal code\n",
        "\n",
        "3. Output & Compatibility\n",
        "Matplotlib: Outputs static images (PNG, SVG, PDF). Can be embedded in Jupyter notebooks.\n",
        "Plotly: Outputs interactive HTML that works in web browsers, dashboards, and Jupyter notebooks\n",
        "\n",
        "4. Customization & Complexity\n",
        "Matplotlib: Highly customizable, but requires more effort (manually setting colors, styles, legends, etc.).\n",
        "Plotly: Automatically applies styling and themes but is less flexible for deep customization.\n",
        "\n",
        "5. 3D & Advanced Visualization\n",
        "Matplotlib: Supports 3D plotting (mpl_toolkits.mplot3d) but is limited.\n",
        "Plotly: Superior 3D plots with better interactivity.\n",
        "\n"
      ],
      "metadata": {
        "id": "lr4izOjcOoML"
      }
    },
    {
      "cell_type": "markdown",
      "source": [
        "#Q10\n"
      ],
      "metadata": {
        "id": "IH17AzDgOoJH"
      }
    },
    {
      "cell_type": "markdown",
      "source": [
        "--> Hierarchical indexing (also called MultiIndex) in Pandas allows you to have multiple levels of index labels on rows and/or columns. This is particularly useful for handling multi-dimensional data in a tabular format."
      ],
      "metadata": {
        "id": "0IesNhDsOoGO"
      }
    },
    {
      "cell_type": "markdown",
      "source": [
        "#Q11\n"
      ],
      "metadata": {
        "id": "4QiveXIKOoDH"
      }
    },
    {
      "cell_type": "markdown",
      "source": [
        "--> The seaborn.pairplot() function is used to visualize pairwise relationships between numerical variables in a dataset. It creates a grid of scatter plots (for continuous variables) and histograms or KDE plots (for diagonal elements).\n",
        "\n",
        " Role of pairplot()\n",
        "\n",
        " Exploratory Data Analysis (EDA)\n",
        "Helps identify relationships between numerical variables.\n",
        "\n",
        "Detects Trends & Correlations\n",
        "Shows positive/negative correlations between variables.\n",
        "\n",
        "Finds Outliers & Clusters\n",
        "Outliers appear as isolated points, and clusters become visible.\n",
        "\n",
        "Categorical Separation (using hue)\n",
        "Can color-code points based on a categorical variable."
      ],
      "metadata": {
        "id": "lNPiqpVcOoAH"
      }
    },
    {
      "cell_type": "markdown",
      "source": [
        "#Q12"
      ],
      "metadata": {
        "id": "JLXQ9bwXQBTR"
      }
    },
    {
      "cell_type": "markdown",
      "source": [
        "--> The describe() function in Pandas provides a summary of descriptive statistics for numerical (and optionally categorical) columns in a DataFrame. It helps in exploratory data analysis (EDA) by quickly summarizing the dataset.\n",
        "\n",
        "🔹 Purpose of describe()\n",
        "Summarizes Numerical Data\n",
        "Computes essential statistics like count, mean, standard deviation, min, max, and quartiles.\n",
        "\n",
        "Detects Outliers & Distributions\n",
        "By checking min/max values and quartiles, you can spot outliers.\n",
        "\n",
        "Compares Features Quickly\n",
        "Helps compare scales and distributions of different numerical columns.\n",
        "\n",
        "Supports Categorical Data (with include=\"object\" or include=\"all\")\n",
        "Can summarize non-numeric (categorical) columns too."
      ],
      "metadata": {
        "id": "LizwZ5dHQBQ_"
      }
    },
    {
      "cell_type": "markdown",
      "source": [
        "#Q13\n"
      ],
      "metadata": {
        "id": "GJ2VF5V7QBOg"
      }
    },
    {
      "cell_type": "markdown",
      "source": [
        "--> Missing data is common in real-world datasets and can affect data analysis, visualization, and machine learning models. Handling missing data properly ensures data quality, accuracy, and reliability."
      ],
      "metadata": {
        "id": "BaGxikVHQBLf"
      }
    },
    {
      "cell_type": "markdown",
      "source": [
        "#Q14"
      ],
      "metadata": {
        "id": "fXxSfR7UQBIe"
      }
    },
    {
      "cell_type": "markdown",
      "source": [
        "--> Plotly is a powerful Python visualization library that offers interactive, high-quality, and web-based charts. It is widely used in data analysis, dashboards, and machine learning applications."
      ],
      "metadata": {
        "id": "poIL9_EvQBFu"
      }
    },
    {
      "cell_type": "markdown",
      "source": [
        "#Q15\n"
      ],
      "metadata": {
        "id": "7oBzLWwIQBCo"
      }
    },
    {
      "cell_type": "markdown",
      "source": [
        "--> NumPy is optimized for numerical computations and handles multidimensional arrays efficiently using the ndarray object. These arrays support fast operations, slicing, reshaping, and broadcasting."
      ],
      "metadata": {
        "id": "4_2p3milQA_n"
      }
    },
    {
      "cell_type": "markdown",
      "source": [
        "#Q16"
      ],
      "metadata": {
        "id": "H1xTY17UQA8Y"
      }
    },
    {
      "cell_type": "markdown",
      "source": [
        "--> Bokeh is a powerful Python library designed for interactive, web-based visualizations. It is widely used in data science, dashboards, and web applications due to its high performance and flexibility."
      ],
      "metadata": {
        "id": "aARMcnvZQ5_3"
      }
    },
    {
      "cell_type": "markdown",
      "source": [
        "#Q17"
      ],
      "metadata": {
        "id": "oXIYyvtOQ59Y"
      }
    },
    {
      "cell_type": "markdown",
      "source": [
        "--> Both apply() and map() are used for applying functions to a Pandas DataFrame or Series, but they work differently.\n",
        "\n",
        "--map() - Works on Series (1D)\n",
        "Used only on Pandas Series (df[\"column\"].map()).\n",
        "Applies a function, dictionary, or lambda to each element.\n",
        "Cannot be used on a DataFrame (2D).\n",
        "\n",
        "-- apply() - Works on Both Series & DataFrames\n",
        "Works on both Series (1D) and DataFrames (2D).\n",
        "Can apply functions that take multiple arguments.\n",
        "Works row-wise (axis=1) or column-wise (axis=0).\n",
        "\n"
      ],
      "metadata": {
        "id": "gMRHGuLWQ56Y"
      }
    },
    {
      "cell_type": "markdown",
      "source": [
        "#Q18"
      ],
      "metadata": {
        "id": "UDfryRkmQ53P"
      }
    },
    {
      "cell_type": "markdown",
      "source": [
        "--> NumPy is a powerful numerical computing library with advanced features that improve performance, efficiency, and flexibility in data science and machine learning."
      ],
      "metadata": {
        "id": "9pPxPlRKQ5x4"
      }
    },
    {
      "cell_type": "markdown",
      "source": [
        "#Q19"
      ],
      "metadata": {
        "id": "bsSb2u4PQ5vZ"
      }
    },
    {
      "cell_type": "markdown",
      "source": [
        "--> Pandas provides powerful tools to handle time series data efficiently, making it easy to analyze, manipulate, and visualize temporal data.\n"
      ],
      "metadata": {
        "id": "PMpQlyRPQ5sP"
      }
    },
    {
      "cell_type": "markdown",
      "source": [
        "#20"
      ],
      "metadata": {
        "id": "sAy_uym2Q5pO"
      }
    },
    {
      "cell_type": "markdown",
      "source": [
        "--> A pivot table in Pandas is used to summarize, aggregate, and reorganize data efficiently. It is similar to Excel’s pivot tables and is extremely useful for analyzing large datasets."
      ],
      "metadata": {
        "id": "gpnvORKjQ5mf"
      }
    },
    {
      "cell_type": "markdown",
      "source": [
        "#Q21"
      ],
      "metadata": {
        "id": "hj2rnQMVQ5jf"
      }
    },
    {
      "cell_type": "markdown",
      "source": [
        "--> NumPy arrays are significantly faster than Python lists because of three key reasons\n",
        "\n",
        "1 NumPy Uses Contiguous Memory (Optimized Storage)\n",
        "NumPy arrays are stored in contiguous memory blocks, making element access and slicing extremely fast.\n",
        "Python lists store elements as pointers to objects, leading to overhead and fragmentation.\n",
        "\n",
        "2 NumPy does not create a new copy when slicing arrays—it returns a view (a reference to the same memory).\n",
        "Python lists create new lists when sliced, leading to extra memory usage and computation\n",
        "\n",
        "3 NumPy Uses Low-Level C & Fortran Implementations\n",
        "NumPy's slicing is implemented in C, avoiding the overhead of Python’s high-level looping.\n",
        "Python lists involve dynamic type-checking and reference lookups, slowing down slicing.\n",
        "\n"
      ],
      "metadata": {
        "id": "KldKm2hgQ5dn"
      }
    },
    {
      "cell_type": "markdown",
      "source": [
        "#Q22"
      ],
      "metadata": {
        "id": "a_kFRz1VSwTX"
      }
    },
    {
      "cell_type": "markdown",
      "source": [
        "--> Seaborn is a powerful Python library for statistical data visualization. It builds on Matplotlib and integrates well with Pandas, making it a great choice for exploratory data analysis (EDA)."
      ],
      "metadata": {
        "id": "TLClgCHbSwQn"
      }
    },
    {
      "cell_type": "markdown",
      "source": [
        "#Practical Question"
      ],
      "metadata": {
        "id": "P7tJGvb9S9HL"
      }
    },
    {
      "cell_type": "markdown",
      "source": [
        "#Q1"
      ],
      "metadata": {
        "id": "VeMxB-s1S9Dt"
      }
    },
    {
      "cell_type": "code",
      "source": [
        "import numpy as np\n",
        "\n",
        "# Create a 2D NumPy array\n",
        "arr = np.array([[1, 2, 3],\n",
        "                [4, 5, 6],\n",
        "                [7, 8, 9]])\n",
        "\n",
        "# Calculate the sum of each row\n",
        "row_sums = np.sum(arr, axis=1)\n",
        "\n",
        "print(\"2D Array:\\n\", arr)\n",
        "print(\"Sum of each row:\", row_sums)"
      ],
      "metadata": {
        "colab": {
          "base_uri": "https://localhost:8080/"
        },
        "id": "TzVQjhSgS7fj",
        "outputId": "a1e7ce84-c2a8-4506-8291-decb9ec7e36a"
      },
      "execution_count": 1,
      "outputs": [
        {
          "output_type": "stream",
          "name": "stdout",
          "text": [
            "2D Array:\n",
            " [[1 2 3]\n",
            " [4 5 6]\n",
            " [7 8 9]]\n",
            "Sum of each row: [ 6 15 24]\n"
          ]
        }
      ]
    },
    {
      "cell_type": "markdown",
      "source": [
        "#Q2"
      ],
      "metadata": {
        "id": "KAFR577zTMmv"
      }
    },
    {
      "cell_type": "code",
      "source": [
        "import pandas as pd\n",
        "\n",
        "# Sample DataFrame\n",
        "data = {\n",
        "    'A': [10, 20, 30, 40, 50],\n",
        "    'B': [5, 15, 25, 35, 45],\n",
        "    'C': [2, 4, 6, 8, 10]\n",
        "}\n",
        "\n",
        "df = pd.DataFrame(data)\n",
        "\n",
        "# Calculate the mean of column 'A'\n",
        "mean_A = df['A'].mean()\n",
        "\n",
        "print(\"Mean of column 'A':\", mean_A)"
      ],
      "metadata": {
        "colab": {
          "base_uri": "https://localhost:8080/"
        },
        "id": "WpeYkf93TIBA",
        "outputId": "332035e9-c240-469c-af7a-abeafdb13494"
      },
      "execution_count": 2,
      "outputs": [
        {
          "output_type": "stream",
          "name": "stdout",
          "text": [
            "Mean of column 'A': 30.0\n"
          ]
        }
      ]
    },
    {
      "cell_type": "markdown",
      "source": [
        "#Q3"
      ],
      "metadata": {
        "id": "_LMoprlvTVcv"
      }
    },
    {
      "cell_type": "code",
      "source": [
        "import matplotlib.pyplot as plt\n",
        "import numpy as np\n",
        "\n",
        "# Generate sample data\n",
        "x = np.random.rand(50) * 10  # 50 random x-values between 0 and 10\n",
        "y = np.random.rand(50) * 10  # 50 random y-values between 0 and 10\n",
        "\n",
        "# Create scatter plot\n",
        "plt.scatter(x, y, color='blue', marker='o', alpha=0.7)\n",
        "\n",
        "# Add labels and title\n",
        "plt.xlabel(\"X-axis\")\n",
        "plt.ylabel(\"Y-axis\")\n",
        "plt.title(\"Scatter Plot Example\")\n",
        "\n",
        "# Show the plot\n",
        "plt.show()"
      ],
      "metadata": {
        "colab": {
          "base_uri": "https://localhost:8080/",
          "height": 472
        },
        "id": "UEzHKo4lTTSh",
        "outputId": "45275c8a-5e8a-4f01-fc29-85e878fed07e"
      },
      "execution_count": 3,
      "outputs": [
        {
          "output_type": "display_data",
          "data": {
            "text/plain": [
              "<Figure size 640x480 with 1 Axes>"
            ],
            "image/png": "[encoded data removed]"
          },
          "metadata": {}
        }
      ]
    },
    {
      "cell_type": "markdown",
      "source": [
        "#Q4"
      ],
      "metadata": {
        "id": "fYa5JWSeTWXH"
      }
    },
    {
      "cell_type": "code",
      "source": [
        "import pandas as pd\n",
        "import numpy as np\n",
        "import seaborn as sns\n",
        "import matplotlib.pyplot as plt\n",
        "\n",
        "# Generate a sample DataFrame\n",
        "np.random.seed(42)  # For reproducibility\n",
        "data = {\n",
        "    'A': np.random.rand(10),\n",
        "    'B': np.random.rand(10),\n",
        "    'C': np.random.rand(10),\n",
        "    'D': np.random.rand(10)\n",
        "}\n",
        "df = pd.DataFrame(data)\n",
        "\n",
        "# Compute the correlation matrix\n",
        "corr_matrix = df.corr()\n",
        "\n",
        "# Create a heatmap using Seaborn\n",
        "plt.figure(figsize=(6, 4))\n",
        "sns.heatmap(corr_matrix, annot=True, cmap='coolwarm', fmt=\".2f\", linewidths=0.5)\n",
        "\n",
        "# Add title\n",
        "plt.title(\"Correlation Matrix Heatmap\")\n",
        "\n",
        "# Show the plot\n",
        "plt.show()"
      ],
      "metadata": {
        "colab": {
          "base_uri": "https://localhost:8080/",
          "height": 391
        },
        "id": "XKsQNwSFTWqP",
        "outputId": "4053fb53-5d80-46be-dbdb-cad3ec64d0ad"
      },
      "execution_count": 4,
      "outputs": [
        {
          "output_type": "display_data",
          "data": {
            "text/plain": [
              "<Figure size 600x400 with 2 Axes>"
            ],
            "image/png": "[encoded data removed]"
          },
          "metadata": {}
        }
      ]
    },
    {
      "cell_type": "markdown",
      "source": [
        "#Q5"
      ],
      "metadata": {
        "id": "A4KFcru6Tm03"
      }
    },
    {
      "cell_type": "code",
      "source": [
        "import plotly.express as px\n",
        "import pandas as pd\n",
        "\n",
        "# Sample data\n",
        "data = {\n",
        "    'Category': ['A', 'B', 'C', 'D', 'E'],\n",
        "    'Values': [10, 20, 15, 25, 18]\n",
        "}\n",
        "\n",
        "df = pd.DataFrame(data)\n",
        "\n",
        "# Create a bar plot\n",
        "fig = px.bar(df, x='Category', y='Values', title=\"Bar Plot Example\", color='Category')\n",
        "\n",
        "# Show the plot\n",
        "fig.show()"
      ],
      "metadata": {
        "colab": {
          "base_uri": "https://localhost:8080/",
          "height": 542
        },
        "id": "I7V6HW2dTnQB",
        "outputId": "33b8cb3c-c2fd-4920-8eb8-56e42d1143c9"
      },
      "execution_count": 5,
      "outputs": [
        {
          "output_type": "display_data",
          "data": {
            "text/html": [
              "<html>\n",
              "<head><meta charset=\"utf-8\" /></head>\n",
              "<body>\n",
              "    <div>            <script src=\"https://cdnjs.cloudflare.com/ajax/libs/mathjax/2.7.5/MathJax.js?config=TeX-AMS-MML_SVG\"></script><script type=\"text/javascript\">if (window.MathJax && window.MathJax.Hub && window.MathJax.Hub.Config) {window.MathJax.Hub.Config({SVG: {font: \"STIX-Web\"}});}</script>                <script type=\"text/javascript\">window.PlotlyConfig = {MathJaxConfig: 'local'};</script>\n",
              "        <script charset=\"utf-8\" src=\"https://cdn.plot.ly/plotly-2.35.2.min.js\"></script>                <div id=\"3bcd2d41-dd5e-4754-ab97-3a16ce442892\" class=\"plotly-graph-div\" style=\"height:525px; width:100%;\"></div>            <script type=\"text/javascript\">                                    window.PLOTLYENV=window.PLOTLYENV || {};                                    if (document.getElementById(\"3bcd2d41-dd5e-4754-ab97-3a16ce442892\")) {                    Plotly.newPlot(                        \"3bcd2d41-dd5e-4754-ab97-3a16ce442892\",                        [{\"alignmentgroup\":\"True\",\"hovertemplate\":\"Category=%{x}\\u003cbr\\u003eValues=%{y}\\u003cextra\\u003e\\u003c\\u002fextra\\u003e\",\"legendgroup\":\"A\",\"marker\":{\"color\":\"#636efa\",\"pattern\":{\"shape\":\"\"}},\"name\":\"A\",\"offsetgroup\":\"A\",\"orientation\":\"v\",\"showlegend\":true,\"textposition\":\"auto\",\"x\":[\"A\"],\"xaxis\":\"x\",\"y\":[10],\"yaxis\":\"y\",\"type\":\"bar\"},{\"alignmentgroup\":\"True\",\"hovertemplate\":\"Category=%{x}\\u003cbr\\u003eValues=%{y}\\u003cextra\\u003e\\u003c\\u002fextra\\u003e\",\"legendgroup\":\"B\",\"marker\":{\"color\":\"#EF553B\",\"pattern\":{\"shape\":\"\"}},\"name\":\"B\",\"offsetgroup\":\"B\",\"orientation\":\"v\",\"showlegend\":true,\"textposition\":\"auto\",\"x\":[\"B\"],\"xaxis\":\"x\",\"y\":[20],\"yaxis\":\"y\",\"type\":\"bar\"},{\"alignmentgroup\":\"True\",\"hovertemplate\":\"Category=%{x}\\u003cbr\\u003eValues=%{y}\\u003cextra\\u003e\\u003c\\u002fextra\\u003e\",\"legendgroup\":\"C\",\"marker\":{\"color\":\"#00cc96\",\"pattern\":{\"shape\":\"\"}},\"name\":\"C\",\"offsetgroup\":\"C\",\"orientation\":\"v\",\"showlegend\":true,\"textposition\":\"auto\",\"x\":[\"C\"],\"xaxis\":\"x\",\"y\":[15],\"yaxis\":\"y\",\"type\":\"bar\"},{\"alignmentgroup\":\"True\",\"hovertemplate\":\"Category=%{x}\\u003cbr\\u003eValues=%{y}\\u003cextra\\u003e\\u003c\\u002fextra\\u003e\",\"legendgroup\":\"D\",\"marker\":{\"color\":\"#ab63fa\",\"pattern\":{\"shape\":\"\"}},\"name\":\"D\",\"offsetgroup\":\"D\",\"orientation\":\"v\",\"showlegend\":true,\"textposition\":\"auto\",\"x\":[\"D\"],\"xaxis\":\"x\",\"y\":[25],\"yaxis\":\"y\",\"type\":\"bar\"},{\"alignmentgroup\":\"True\",\"hovertemplate\":\"Category=%{x}\\u003cbr\\u003eValues=%{y}\\u003cextra\\u003e\\u003c\\u002fextra\\u003e\",\"legendgroup\":\"E\",\"marker\":{\"color\":\"#FFA15A\",\"pattern\":{\"shape\":\"\"}},\"name\":\"E\",\"offsetgroup\":\"E\",\"orientation\":\"v\",\"showlegend\":true,\"textposition\":\"auto\",\"x\":[\"E\"],\"xaxis\":\"x\",\"y\":[18],\"yaxis\":\"y\",\"type\":\"bar\"}],                        {\"template\":{\"data\":{\"histogram2dcontour\":[{\"type\":\"histogram2dcontour\",\"colorbar\":{\"outlinewidth\":0,\"ticks\":\"\"},\"colorscale\":[[0.0,\"#0d0887\"],[0.1111111111111111,\"#46039f\"],[0.2222222222222222,\"#7201a8\"],[0.3333333333333333,\"#9c179e\"],[0.4444444444444444,\"#bd3786\"],[0.5555555555555556,\"#d8576b\"],[0.6666666666666666,\"#ed7953\"],[0.7777777777777778,\"#fb9f3a\"],[0.8888888888888888,\"#fdca26\"],[1.0,\"#f0f921\"]]}],\"choropleth\":[{\"type\":\"choropleth\",\"colorbar\":{\"outlinewidth\":0,\"ticks\":\"\"}}],\"histogram2d\":[{\"type\":\"histogram2d\",\"colorbar\":{\"outlinewidth\":0,\"ticks\":\"\"},\"colorscale\":[[0.0,\"#0d0887\"],[0.1111111111111111,\"#46039f\"],[0.2222222222222222,\"#7201a8\"],[0.3333333333333333,\"#9c179e\"],[0.4444444444444444,\"#bd3786\"],[0.5555555555555556,\"#d8576b\"],[0.6666666666666666,\"#ed7953\"],[0.7777777777777778,\"#fb9f3a\"],[0.8888888888888888,\"#fdca26\"],[1.0,\"#f0f921\"]]}],\"heatmap\":[{\"type\":\"heatmap\",\"colorbar\":{\"outlinewidth\":0,\"ticks\":\"\"},\"colorscale\":[[0.0,\"#0d0887\"],[0.1111111111111111,\"#46039f\"],[0.2222222222222222,\"#7201a8\"],[0.3333333333333333,\"#9c179e\"],[0.4444444444444444,\"#bd3786\"],[0.5555555555555556,\"#d8576b\"],[0.6666666666666666,\"#ed7953\"],[0.7777777777777778,\"#fb9f3a\"],[0.8888888888888888,\"#fdca26\"],[1.0,\"#f0f921\"]]}],\"heatmapgl\":[{\"type\":\"heatmapgl\",\"colorbar\":{\"outlinewidth\":0,\"ticks\":\"\"},\"colorscale\":[[0.0,\"#0d0887\"],[0.1111111111111111,\"#46039f\"],[0.2222222222222222,\"#7201a8\"],[0.3333333333333333,\"#9c179e\"],[0.4444444444444444,\"#bd3786\"],[0.5555555555555556,\"#d8576b\"],[0.6666666666666666,\"#ed7953\"],[0.7777777777777778,\"#fb9f3a\"],[0.8888888888888888,\"#fdca26\"],[1.0,\"#f0f921\"]]}],\"contourcarpet\":[{\"type\":\"contourcarpet\",\"colorbar\":{\"outlinewidth\":0,\"ticks\":\"\"}}],\"contour\":[{\"type\":\"contour\",\"colorbar\":{\"outlinewidth\":0,\"ticks\":\"\"},\"colorscale\":[[0.0,\"#0d0887\"],[0.1111111111111111,\"#46039f\"],[0.2222222222222222,\"#7201a8\"],[0.3333333333333333,\"#9c179e\"],[0.4444444444444444,\"#bd3786\"],[0.5555555555555556,\"#d8576b\"],[0.6666666666666666,\"#ed7953\"],[0.7777777777777778,\"#fb9f3a\"],[0.8888888888888888,\"#fdca26\"],[1.0,\"#f0f921\"]]}],\"surface\":[{\"type\":\"surface\",\"colorbar\":{\"outlinewidth\":0,\"ticks\":\"\"},\"colorscale\":[[0.0,\"#0d0887\"],[0.1111111111111111,\"#46039f\"],[0.2222222222222222,\"#7201a8\"],[0.3333333333333333,\"#9c179e\"],[0.4444444444444444,\"#bd3786\"],[0.5555555555555556,\"#d8576b\"],[0.6666666666666666,\"#ed7953\"],[0.7777777777777778,\"#fb9f3a\"],[0.8888888888888888,\"#fdca26\"],[1.0,\"#f0f921\"]]}],\"mesh3d\":[{\"type\":\"mesh3d\",\"colorbar\":{\"outlinewidth\":0,\"ticks\":\"\"}}],\"scatter\":[{\"fillpattern\":{\"fillmode\":\"overlay\",\"size\":10,\"solidity\":0.2},\"type\":\"scatter\"}],\"parcoords\":[{\"type\":\"parcoords\",\"line\":{\"colorbar\":{\"outlinewidth\":0,\"ticks\":\"\"}}}],\"scatterpolargl\":[{\"type\":\"scatterpolargl\",\"marker\":{\"colorbar\":{\"outlinewidth\":0,\"ticks\":\"\"}}}],\"bar\":[{\"error_x\":{\"color\":\"#2a3f5f\"},\"error_y\":{\"color\":\"#2a3f5f\"},\"marker\":{\"line\":{\"color\":\"#E5ECF6\",\"width\":0.5},\"pattern\":{\"fillmode\":\"overlay\",\"size\":10,\"solidity\":0.2}},\"type\":\"bar\"}],\"scattergeo\":[{\"type\":\"scattergeo\",\"marker\":{\"colorbar\":{\"outlinewidth\":0,\"ticks\":\"\"}}}],\"scatterpolar\":[{\"type\":\"scatterpolar\",\"marker\":{\"colorbar\":{\"outlinewidth\":0,\"ticks\":\"\"}}}],\"histogram\":[{\"marker\":{\"pattern\":{\"fillmode\":\"overlay\",\"size\":10,\"solidity\":0.2}},\"type\":\"histogram\"}],\"scattergl\":[{\"type\":\"scattergl\",\"marker\":{\"colorbar\":{\"outlinewidth\":0,\"ticks\":\"\"}}}],\"scatter3d\":[{\"type\":\"scatter3d\",\"line\":{\"colorbar\":{\"outlinewidth\":0,\"ticks\":\"\"}},\"marker\":{\"colorbar\":{\"outlinewidth\":0,\"ticks\":\"\"}}}],\"scattermapbox\":[{\"type\":\"scattermapbox\",\"marker\":{\"colorbar\":{\"outlinewidth\":0,\"ticks\":\"\"}}}],\"scatterternary\":[{\"type\":\"scatterternary\",\"marker\":{\"colorbar\":{\"outlinewidth\":0,\"ticks\":\"\"}}}],\"scattercarpet\":[{\"type\":\"scattercarpet\",\"marker\":{\"colorbar\":{\"outlinewidth\":0,\"ticks\":\"\"}}}],\"carpet\":[{\"aaxis\":{\"endlinecolor\":\"#2a3f5f\",\"gridcolor\":\"white\",\"linecolor\":\"white\",\"minorgridcolor\":\"white\",\"startlinecolor\":\"#2a3f5f\"},\"baxis\":{\"endlinecolor\":\"#2a3f5f\",\"gridcolor\":\"white\",\"linecolor\":\"white\",\"minorgridcolor\":\"white\",\"startlinecolor\":\"#2a3f5f\"},\"type\":\"carpet\"}],\"table\":[{\"cells\":{\"fill\":{\"color\":\"#EBF0F8\"},\"line\":{\"color\":\"white\"}},\"header\":{\"fill\":{\"color\":\"#C8D4E3\"},\"line\":{\"color\":\"white\"}},\"type\":\"table\"}],\"barpolar\":[{\"marker\":{\"line\":{\"color\":\"#E5ECF6\",\"width\":0.5},\"pattern\":{\"fillmode\":\"overlay\",\"size\":10,\"solidity\":0.2}},\"type\":\"barpolar\"}],\"pie\":[{\"automargin\":true,\"type\":\"pie\"}]},\"layout\":{\"autotypenumbers\":\"strict\",\"colorway\":[\"#636efa\",\"#EF553B\",\"#00cc96\",\"#ab63fa\",\"#FFA15A\",\"#19d3f3\",\"#FF6692\",\"#B6E880\",\"#FF97FF\",\"#FECB52\"],\"font\":{\"color\":\"#2a3f5f\"},\"hovermode\":\"closest\",\"hoverlabel\":{\"align\":\"left\"},\"paper_bgcolor\":\"white\",\"plot_bgcolor\":\"#E5ECF6\",\"polar\":{\"bgcolor\":\"#E5ECF6\",\"angularaxis\":{\"gridcolor\":\"white\",\"linecolor\":\"white\",\"ticks\":\"\"},\"radialaxis\":{\"gridcolor\":\"white\",\"linecolor\":\"white\",\"ticks\":\"\"}},\"ternary\":{\"bgcolor\":\"#E5ECF6\",\"aaxis\":{\"gridcolor\":\"white\",\"linecolor\":\"white\",\"ticks\":\"\"},\"baxis\":{\"gridcolor\":\"white\",\"linecolor\":\"white\",\"ticks\":\"\"},\"caxis\":{\"gridcolor\":\"white\",\"linecolor\":\"white\",\"ticks\":\"\"}},\"coloraxis\":{\"colorbar\":{\"outlinewidth\":0,\"ticks\":\"\"}},\"colorscale\":{\"sequential\":[[0.0,\"#0d0887\"],[0.1111111111111111,\"#46039f\"],[0.2222222222222222,\"#7201a8\"],[0.3333333333333333,\"#9c179e\"],[0.4444444444444444,\"#bd3786\"],[0.5555555555555556,\"#d8576b\"],[0.6666666666666666,\"#ed7953\"],[0.7777777777777778,\"#fb9f3a\"],[0.8888888888888888,\"#fdca26\"],[1.0,\"#f0f921\"]],\"sequentialminus\":[[0.0,\"#0d0887\"],[0.1111111111111111,\"#46039f\"],[0.2222222222222222,\"#7201a8\"],[0.3333333333333333,\"#9c179e\"],[0.4444444444444444,\"#bd3786\"],[0.5555555555555556,\"#d8576b\"],[0.6666666666666666,\"#ed7953\"],[0.7777777777777778,\"#fb9f3a\"],[0.8888888888888888,\"#fdca26\"],[1.0,\"#f0f921\"]],\"diverging\":[[0,\"#8e0152\"],[0.1,\"#c51b7d\"],[0.2,\"#de77ae\"],[0.3,\"#f1b6da\"],[0.4,\"#fde0ef\"],[0.5,\"#f7f7f7\"],[0.6,\"#e6f5d0\"],[0.7,\"#b8e186\"],[0.8,\"#7fbc41\"],[0.9,\"#4d9221\"],[1,\"#276419\"]]},\"xaxis\":{\"gridcolor\":\"white\",\"linecolor\":\"white\",\"ticks\":\"\",\"title\":{\"standoff\":15},\"zerolinecolor\":\"white\",\"automargin\":true,\"zerolinewidth\":2},\"yaxis\":{\"gridcolor\":\"white\",\"linecolor\":\"white\",\"ticks\":\"\",\"title\":{\"standoff\":15},\"zerolinecolor\":\"white\",\"automargin\":true,\"zerolinewidth\":2},\"scene\":{\"xaxis\":{\"backgroundcolor\":\"#E5ECF6\",\"gridcolor\":\"white\",\"linecolor\":\"white\",\"showbackground\":true,\"ticks\":\"\",\"zerolinecolor\":\"white\",\"gridwidth\":2},\"yaxis\":{\"backgroundcolor\":\"#E5ECF6\",\"gridcolor\":\"white\",\"linecolor\":\"white\",\"showbackground\":true,\"ticks\":\"\",\"zerolinecolor\":\"white\",\"gridwidth\":2},\"zaxis\":{\"backgroundcolor\":\"#E5ECF6\",\"gridcolor\":\"white\",\"linecolor\":\"white\",\"showbackground\":true,\"ticks\":\"\",\"zerolinecolor\":\"white\",\"gridwidth\":2}},\"shapedefaults\":{\"line\":{\"color\":\"#2a3f5f\"}},\"annotationdefaults\":{\"arrowcolor\":\"#2a3f5f\",\"arrowhead\":0,\"arrowwidth\":1},\"geo\":{\"bgcolor\":\"white\",\"landcolor\":\"#E5ECF6\",\"subunitcolor\":\"white\",\"showland\":true,\"showlakes\":true,\"lakecolor\":\"white\"},\"title\":{\"x\":0.05},\"mapbox\":{\"style\":\"light\"}}},\"xaxis\":{\"anchor\":\"y\",\"domain\":[0.0,1.0],\"title\":{\"text\":\"Category\"},\"categoryorder\":\"array\",\"categoryarray\":[\"A\",\"B\",\"C\",\"D\",\"E\"]},\"yaxis\":{\"anchor\":\"x\",\"domain\":[0.0,1.0],\"title\":{\"text\":\"Values\"}},\"legend\":{\"title\":{\"text\":\"Category\"},\"tracegroupgap\":0},\"title\":{\"text\":\"Bar Plot Example\"},\"barmode\":\"relative\"},                        {\"responsive\": true}                    ).then(function(){\n",
              "                            \n",
              "var gd = document.getElementById('3bcd2d41-dd5e-4754-ab97-3a16ce442892');\n",
              "var x = new MutationObserver(function (mutations, observer) {{\n",
              "        var display = window.getComputedStyle(gd).display;\n",
              "        if (!display || display === 'none') {{\n",
              "            console.log([gd, 'removed!']);\n",
              "            Plotly.purge(gd);\n",
              "            observer.disconnect();\n",
              "        }}\n",
              "}});\n",
              "\n",
              "// Listen for the removal of the full notebook cells\n",
              "var notebookContainer = gd.closest('#notebook-container');\n",
              "if (notebookContainer) {{\n",
              "    x.observe(notebookContainer, {childList: true});\n",
              "}}\n",
              "\n",
              "// Listen for the clearing of the current output cell\n",
              "var outputEl = gd.closest('.output');\n",
              "if (outputEl) {{\n",
              "    x.observe(outputEl, {childList: true});\n",
              "}}\n",
              "\n",
              "                        })                };                            </script>        </div>\n",
              "</body>\n",
              "</html>"
            ]
          },
          "metadata": {}
        }
      ]
    },
    {
      "cell_type": "markdown",
      "source": [
        "#Q6"
      ],
      "metadata": {
        "id": "Oe-L65Y1TnlA"
      }
    },
    {
      "cell_type": "code",
      "source": [
        "import pandas as pd\n",
        "\n",
        "# Create a sample DataFrame\n",
        "data = {\n",
        "    'Name': ['Alice', 'Bob', 'Charlie', 'David'],\n",
        "    'Age': [25, 30, 22, 35]\n",
        "}\n",
        "\n",
        "df = pd.DataFrame(data)\n",
        "\n",
        "# Add a new column 'Age Group' based on 'Age'\n",
        "df['Age Group'] = df['Age'].apply(lambda x: 'Young' if x < 30 else 'Adult')\n",
        "\n",
        "# Display the DataFrame\n",
        "print(df)"
      ],
      "metadata": {
        "colab": {
          "base_uri": "https://localhost:8080/"
        },
        "id": "7ZSVZhyDTn9x",
        "outputId": "8d7bc40b-e51d-465c-e582-f196da323177"
      },
      "execution_count": 6,
      "outputs": [
        {
          "output_type": "stream",
          "name": "stdout",
          "text": [
            "      Name  Age Age Group\n",
            "0    Alice   25     Young\n",
            "1      Bob   30     Adult\n",
            "2  Charlie   22     Young\n",
            "3    David   35     Adult\n"
          ]
        }
      ]
    },
    {
      "cell_type": "markdown",
      "source": [
        "#Q7\n"
      ],
      "metadata": {
        "id": "VWV8uC4eUM-v"
      }
    },
    {
      "cell_type": "code",
      "source": [
        "import numpy as np\n",
        "\n",
        "# Create two NumPy arrays\n",
        "arr1 = np.array([1, 2, 3, 4, 5])\n",
        "arr2 = np.array([10, 20, 30, 40, 50])\n",
        "\n",
        "# Element-wise multiplication\n",
        "result = arr1 * arr2  # OR use np.multiply(arr1, arr2)\n",
        "\n",
        "# Display the result\n",
        "print(\"Array 1:\", arr1)\n",
        "print(\"Array 2:\", arr2)\n",
        "print(\"Element-wise Multiplication:\", result)"
      ],
      "metadata": {
        "colab": {
          "base_uri": "https://localhost:8080/"
        },
        "id": "ceIhiyiLUMAE",
        "outputId": "14357402-0515-46c9-dcc4-bb752a2384e1"
      },
      "execution_count": 7,
      "outputs": [
        {
          "output_type": "stream",
          "name": "stdout",
          "text": [
            "Array 1: [1 2 3 4 5]\n",
            "Array 2: [10 20 30 40 50]\n",
            "Element-wise Multiplication: [ 10  40  90 160 250]\n"
          ]
        }
      ]
    },
    {
      "cell_type": "markdown",
      "source": [
        "#Q8\n"
      ],
      "metadata": {
        "id": "3yB5eFPmUNY_"
      }
    },
    {
      "cell_type": "code",
      "source": [
        "import numpy as np\n",
        "\n",
        "# Create two NumPy arrays\n",
        "arr1 = np.array([1, 2, 3, 4, 5])\n",
        "arr2 = np.array([10, 20, 30, 40, 50])\n",
        "\n",
        "# Element-wise multiplication\n",
        "result = arr1 * arr2  # OR use np.multiply(arr1, arr2)\n",
        "\n",
        "# Display the result\n",
        "print(\"Array 1:\", arr1)\n",
        "print(\"Array 2:\", arr2)\n",
        "print(\"Element-wise Multiplication:\", result)"
      ],
      "metadata": {
        "colab": {
          "base_uri": "https://localhost:8080/"
        },
        "id": "vKP3JSw1UNsw",
        "outputId": "810e94ca-6434-4124-e5ff-f6636db18f28"
      },
      "execution_count": 8,
      "outputs": [
        {
          "output_type": "stream",
          "name": "stdout",
          "text": [
            "Array 1: [1 2 3 4 5]\n",
            "Array 2: [10 20 30 40 50]\n",
            "Element-wise Multiplication: [ 10  40  90 160 250]\n"
          ]
        }
      ]
    },
    {
      "cell_type": "markdown",
      "source": [
        "#Q9"
      ],
      "metadata": {
        "id": "LjcbHIxaUN_5"
      }
    },
    {
      "cell_type": "code",
      "source": [
        "import pandas as pd\n",
        "\n",
        "# Create a sample DataFrame\n",
        "data = {\n",
        "    'Name': ['Alice', 'Bob', 'Charlie', 'David', 'Eve'],\n",
        "    'Score': [85, 42, 90, 76, 55]\n",
        "}\n",
        "\n",
        "df = pd.DataFrame(data)\n",
        "\n",
        "# Define threshold\n",
        "threshold = 60\n",
        "\n",
        "# Filter rows where 'Score' is greater than the threshold\n",
        "filtered_df = df[df['Score'] > threshold]\n",
        "\n",
        "# Display the filtered DataFrame\n",
        "print(filtered_df)"
      ],
      "metadata": {
        "colab": {
          "base_uri": "https://localhost:8080/"
        },
        "id": "ywqPcfqiUOT5",
        "outputId": "0ed913af-aa11-4043-e125-b12315eac27b"
      },
      "execution_count": 9,
      "outputs": [
        {
          "output_type": "stream",
          "name": "stdout",
          "text": [
            "      Name  Score\n",
            "0    Alice     85\n",
            "2  Charlie     90\n",
            "3    David     76\n"
          ]
        }
      ]
    },
    {
      "cell_type": "markdown",
      "source": [
        "#Q10"
      ],
      "metadata": {
        "id": "2Riq0DPDUOuv"
      }
    },
    {
      "cell_type": "code",
      "source": [
        "import seaborn as sns\n",
        "import matplotlib.pyplot as plt\n",
        "import numpy as np\n",
        "\n",
        "# Generate sample data\n",
        "np.random.seed(42)\n",
        "data = np.random.randn(200)  # 200 random values from a normal distribution\n",
        "\n",
        "# Create histogram\n",
        "plt.figure(figsize=(8, 5))\n",
        "sns.histplot(data, bins=20, kde=True, color='blue')\n",
        "\n",
        "# Add labels and title\n",
        "plt.xlabel(\"Value\")\n",
        "plt.ylabel(\"Frequency\")\n",
        "plt.title(\"Histogram of Data Distribution\")\n",
        "\n",
        "# Show the plot\n",
        "plt.show()"
      ],
      "metadata": {
        "colab": {
          "base_uri": "https://localhost:8080/",
          "height": 487
        },
        "id": "-xvtQdTzUPBI",
        "outputId": "951f8a64-19e2-4065-c60f-dd40080b7dd8"
      },
      "execution_count": 10,
      "outputs": [
        {
          "output_type": "display_data",
          "data": {
            "text/plain": [
              "<Figure size 800x500 with 1 Axes>"
            ],
            "image/png": "[encoded data removed]"
          },
          "metadata": {}
        }
      ]
    },
    {
      "cell_type": "markdown",
      "source": [
        "#Q11"
      ],
      "metadata": {
        "id": "yykT1VsQUPSn"
      }
    },
    {
      "cell_type": "code",
      "source": [
        "import numpy as np\n",
        "\n",
        "# Define two matrices\n",
        "A = np.array([[1, 2, 3],\n",
        "              [4, 5, 6]])\n",
        "\n",
        "B = np.array([[7, 8],\n",
        "              [9, 10],\n",
        "              [11, 12]])\n",
        "\n",
        "# Perform matrix multiplication\n",
        "result = np.dot(A, B)  # OR use A @ B\n",
        "\n",
        "# Display the result\n",
        "print(\"Matrix A:\\n\", A)\n",
        "print(\"Matrix B:\\n\", B)\n",
        "print(\"Matrix Multiplication Result:\\n\", result)"
      ],
      "metadata": {
        "colab": {
          "base_uri": "https://localhost:8080/"
        },
        "id": "hcdbFe2GUP0x",
        "outputId": "d852ffa1-28e1-4f63-95fb-ef47035fc08c"
      },
      "execution_count": 11,
      "outputs": [
        {
          "output_type": "stream",
          "name": "stdout",
          "text": [
            "Matrix A:\n",
            " [[1 2 3]\n",
            " [4 5 6]]\n",
            "Matrix B:\n",
            " [[ 7  8]\n",
            " [ 9 10]\n",
            " [11 12]]\n",
            "Matrix Multiplication Result:\n",
            " [[ 58  64]\n",
            " [139 154]]\n"
          ]
        }
      ]
    },
    {
      "cell_type": "markdown",
      "source": [
        "#Q12"
      ],
      "metadata": {
        "id": "XrVF_XyOVBmY"
      }
    },
    {
      "cell_type": "code",
      "source": [
        "import pandas as pd\n",
        "\n",
        "# Load the CSV file (replace 'data.csv' with your actual file path)\n",
        "df = pd.read_csv('data.csv', header=None)\n",
        "df = pd.read_csv('data.csv')\n",
        "\n",
        "# Display the first 5 rows\n",
        "print(df.head())"
      ],
      "metadata": {
        "id": "qj5ncyn3Vnq4"
      },
      "execution_count": null,
      "outputs": []
    },
    {
      "cell_type": "markdown",
      "source": [
        "#Q13"
      ],
      "metadata": {
        "id": "39GqE-QjVCXY"
      }
    },
    {
      "cell_type": "code",
      "source": [
        "import plotly.express as px\n",
        "import pandas as pd\n",
        "import numpy as np\n",
        "\n",
        "# Generate sample data\n",
        "np.random.seed(42)\n",
        "df = pd.DataFrame({\n",
        "    'X': np.random.rand(50) * 10,  # Random X values\n",
        "    'Y': np.random.rand(50) * 10,  # Random Y values\n",
        "    'Z': np.random.rand(50) * 10,  # Random Z values\n",
        "    'Category': np.random.choice(['A', 'B', 'C'], 50)  # Random categories\n",
        "})\n",
        "\n",
        "# Create a 3D scatter plot\n",
        "fig = px.scatter_3d(df, x='X', y='Y', z='Z', color='Category',\n",
        "                     title=\"3D Scatter Plot Example\", size_max=10)\n",
        "\n",
        "# Show the plot\n",
        "fig.show()"
      ],
      "metadata": {
        "colab": {
          "base_uri": "https://localhost:8080/",
          "height": 542
        },
        "id": "U2vzxEI2VCrA",
        "outputId": "9c5d4ade-01c5-443c-8f3d-7bd970bc0817"
      },
      "execution_count": 15,
      "outputs": [
        {
          "output_type": "display_data",
          "data": {
            "text/html": [
              "<html>\n",
              "<head><meta charset=\"utf-8\" /></head>\n",
              "<body>\n",
              "    <div>            <script src=\"https://cdnjs.cloudflare.com/ajax/libs/mathjax/2.7.5/MathJax.js?config=TeX-AMS-MML_SVG\"></script><script type=\"text/javascript\">if (window.MathJax && window.MathJax.Hub && window.MathJax.Hub.Config) {window.MathJax.Hub.Config({SVG: {font: \"STIX-Web\"}});}</script>                <script type=\"text/javascript\">window.PlotlyConfig = {MathJaxConfig: 'local'};</script>\n",
              "        <script charset=\"utf-8\" src=\"https://cdn.plot.ly/plotly-2.35.2.min.js\"></script>                <div id=\"f94c880a-e0ab-4af4-9cb7-35e58e09d895\" class=\"plotly-graph-div\" style=\"height:525px; width:100%;\"></div>            <script type=\"text/javascript\">                                    window.PLOTLYENV=window.PLOTLYENV || {};                                    if (document.getElementById(\"f94c880a-e0ab-4af4-9cb7-35e58e09d895\")) {                    Plotly.newPlot(                        \"f94c880a-e0ab-4af4-9cb7-35e58e09d895\",                        [{\"hovertemplate\":\"Category=A\\u003cbr\\u003eX=%{x}\\u003cbr\\u003eY=%{y}\\u003cbr\\u003eZ=%{z}\\u003cextra\\u003e\\u003c\\u002fextra\\u003e\",\"legendgroup\":\"A\",\"marker\":{\"color\":\"#636efa\",\"symbol\":\"circle\"},\"mode\":\"markers\",\"name\":\"A\",\"scene\":\"scene\",\"showlegend\":true,\"x\":[3.745401188473625,9.50714306409916,1.5599452033620265,8.324426408004218,1.8340450985343382,1.3949386065204183,2.9214464853521815,7.851759613930136,9.656320330745594,8.08397348116461,6.842330265121569,1.2203823484477883,4.951769101112702],\"y\":[9.695846277645586,7.7513282336111455,9.218742350231167,8.287375091519294,5.426960831582485,1.987156815341724,0.05522117123602399,7.2900716804098735,3.109823217156622,3.2518332202674705,8.872127425763265,1.195942459383017,7.13244787222995],\"z\":[0.3142918568673425,6.364104112637804,2.4929222914887497,9.29697652342573,8.714605901877178,8.960912999234932,3.1800347497186388,4.271077886262563,9.429097039125192,3.2320293202075523,3.63629602379294,9.624472949421111,2.5178229582536416],\"type\":\"scatter3d\"},{\"hovertemplate\":\"Category=C\\u003cbr\\u003eX=%{x}\\u003cbr\\u003eY=%{y}\\u003cbr\\u003eZ=%{z}\\u003cextra\\u003e\\u003c\\u002fextra\\u003e\",\"legendgroup\":\"C\",\"marker\":{\"color\":\"#EF553B\",\"symbol\":\"circle\"},\"mode\":\"markers\",\"name\":\"C\",\"scene\":\"scene\",\"showlegend\":true,\"x\":[7.319939418114051,6.011150117432088,7.080725777960454,0.20584494295802447,9.699098521619943,2.1233911067827616,2.9122914019804194,6.118528947223795,3.663618432936917,1.9967378215835974,5.142344384136116,5.924145688620425,6.075448519014383,1.7052412368729153,0.6505159298527952,9.488855372533333,3.0461376917337066,4.4015249373960135,9.093204020787821,2.587799816000169,5.200680211778108,5.4671027934327965],\"y\":[9.394989415641891,0.45227288910538066,3.2533033076326436,3.8867728968948203,2.713490317738959,3.567533266935893,9.868869366005173,7.722447692966574,8.154614284548341,7.712703466859457,0.7404465173409036,3.5846572854427263,8.631034258755935,6.232981268275579,3.308980248526492,0.6355835028602363,7.29606178338064,4.722149251619493,5.612771975694963,7.70967179954561,4.275410183585496,0.2541912674409519],\"z\":[3.143559810763267,2.2879816549162246,0.7697990982879299,2.8975145291376805,1.6122128725400442,8.08120379564417,5.393422419156507,8.074401551640625,1.1005192452767676,8.18014765922493,8.607305832563434,0.06952130531190703,4.17411003148779,2.2210781047073027,1.198653673336828,3.3761517140362796,5.187906217433661,9.717820827209607,3.0087830981676964,2.848404943774676,5.026790232288615,0.5147875124998935],\"type\":\"scatter3d\"},{\"hovertemplate\":\"Category=B\\u003cbr\\u003eX=%{x}\\u003cbr\\u003eY=%{y}\\u003cbr\\u003eZ=%{z}\\u003cextra\\u003e\\u003c\\u002fextra\\u003e\",\"legendgroup\":\"B\",\"marker\":{\"color\":\"#00cc96\",\"symbol\":\"circle\"},\"mode\":\"markers\",\"name\":\"B\",\"scene\":\"scene\",\"showlegend\":true,\"x\":[5.986584841970366,1.5601864044243652,0.5808361216819946,8.661761457749352,1.8182496720710062,3.0424224295953772,5.247564316322379,4.319450186421157,4.56069984217036,0.46450412719997725,0.9767211400638387,0.34388521115218396,6.62522284353982,3.1171107608941098,1.8485445552552704],\"y\":[8.948273504276488,5.978999788110851,0.884925020519195,1.959828624191452,2.8093450968738076,1.4092422497476265,8.021969807540398,0.7455064367977082,7.068573438476172,1.1586905952512971,6.3755747135521315,7.607850486168974,4.937955963643907,5.227328293819941,1.0789142699330445],\"z\":[5.085706911647028,9.07566473926093,4.103829230356297,7.555511385430487,6.334037565104235,8.036720768991145,1.8657005888603584,8.925589984899778,2.279351625419417,5.107473025775658,7.030189588951778,4.972485058923855,0.36886947354532795,6.095643339798968,2.7864646423661146],\"type\":\"scatter3d\"}],                        {\"template\":{\"data\":{\"histogram2dcontour\":[{\"type\":\"histogram2dcontour\",\"colorbar\":{\"outlinewidth\":0,\"ticks\":\"\"},\"colorscale\":[[0.0,\"#0d0887\"],[0.1111111111111111,\"#46039f\"],[0.2222222222222222,\"#7201a8\"],[0.3333333333333333,\"#9c179e\"],[0.4444444444444444,\"#bd3786\"],[0.5555555555555556,\"#d8576b\"],[0.6666666666666666,\"#ed7953\"],[0.7777777777777778,\"#fb9f3a\"],[0.8888888888888888,\"#fdca26\"],[1.0,\"#f0f921\"]]}],\"choropleth\":[{\"type\":\"choropleth\",\"colorbar\":{\"outlinewidth\":0,\"ticks\":\"\"}}],\"histogram2d\":[{\"type\":\"histogram2d\",\"colorbar\":{\"outlinewidth\":0,\"ticks\":\"\"},\"colorscale\":[[0.0,\"#0d0887\"],[0.1111111111111111,\"#46039f\"],[0.2222222222222222,\"#7201a8\"],[0.3333333333333333,\"#9c179e\"],[0.4444444444444444,\"#bd3786\"],[0.5555555555555556,\"#d8576b\"],[0.6666666666666666,\"#ed7953\"],[0.7777777777777778,\"#fb9f3a\"],[0.8888888888888888,\"#fdca26\"],[1.0,\"#f0f921\"]]}],\"heatmap\":[{\"type\":\"heatmap\",\"colorbar\":{\"outlinewidth\":0,\"ticks\":\"\"},\"colorscale\":[[0.0,\"#0d0887\"],[0.1111111111111111,\"#46039f\"],[0.2222222222222222,\"#7201a8\"],[0.3333333333333333,\"#9c179e\"],[0.4444444444444444,\"#bd3786\"],[0.5555555555555556,\"#d8576b\"],[0.6666666666666666,\"#ed7953\"],[0.7777777777777778,\"#fb9f3a\"],[0.8888888888888888,\"#fdca26\"],[1.0,\"#f0f921\"]]}],\"heatmapgl\":[{\"type\":\"heatmapgl\",\"colorbar\":{\"outlinewidth\":0,\"ticks\":\"\"},\"colorscale\":[[0.0,\"#0d0887\"],[0.1111111111111111,\"#46039f\"],[0.2222222222222222,\"#7201a8\"],[0.3333333333333333,\"#9c179e\"],[0.4444444444444444,\"#bd3786\"],[0.5555555555555556,\"#d8576b\"],[0.6666666666666666,\"#ed7953\"],[0.7777777777777778,\"#fb9f3a\"],[0.8888888888888888,\"#fdca26\"],[1.0,\"#f0f921\"]]}],\"contourcarpet\":[{\"type\":\"contourcarpet\",\"colorbar\":{\"outlinewidth\":0,\"ticks\":\"\"}}],\"contour\":[{\"type\":\"contour\",\"colorbar\":{\"outlinewidth\":0,\"ticks\":\"\"},\"colorscale\":[[0.0,\"#0d0887\"],[0.1111111111111111,\"#46039f\"],[0.2222222222222222,\"#7201a8\"],[0.3333333333333333,\"#9c179e\"],[0.4444444444444444,\"#bd3786\"],[0.5555555555555556,\"#d8576b\"],[0.6666666666666666,\"#ed7953\"],[0.7777777777777778,\"#fb9f3a\"],[0.8888888888888888,\"#fdca26\"],[1.0,\"#f0f921\"]]}],\"surface\":[{\"type\":\"surface\",\"colorbar\":{\"outlinewidth\":0,\"ticks\":\"\"},\"colorscale\":[[0.0,\"#0d0887\"],[0.1111111111111111,\"#46039f\"],[0.2222222222222222,\"#7201a8\"],[0.3333333333333333,\"#9c179e\"],[0.4444444444444444,\"#bd3786\"],[0.5555555555555556,\"#d8576b\"],[0.6666666666666666,\"#ed7953\"],[0.7777777777777778,\"#fb9f3a\"],[0.8888888888888888,\"#fdca26\"],[1.0,\"#f0f921\"]]}],\"mesh3d\":[{\"type\":\"mesh3d\",\"colorbar\":{\"outlinewidth\":0,\"ticks\":\"\"}}],\"scatter\":[{\"fillpattern\":{\"fillmode\":\"overlay\",\"size\":10,\"solidity\":0.2},\"type\":\"scatter\"}],\"parcoords\":[{\"type\":\"parcoords\",\"line\":{\"colorbar\":{\"outlinewidth\":0,\"ticks\":\"\"}}}],\"scatterpolargl\":[{\"type\":\"scatterpolargl\",\"marker\":{\"colorbar\":{\"outlinewidth\":0,\"ticks\":\"\"}}}],\"bar\":[{\"error_x\":{\"color\":\"#2a3f5f\"},\"error_y\":{\"color\":\"#2a3f5f\"},\"marker\":{\"line\":{\"color\":\"#E5ECF6\",\"width\":0.5},\"pattern\":{\"fillmode\":\"overlay\",\"size\":10,\"solidity\":0.2}},\"type\":\"bar\"}],\"scattergeo\":[{\"type\":\"scattergeo\",\"marker\":{\"colorbar\":{\"outlinewidth\":0,\"ticks\":\"\"}}}],\"scatterpolar\":[{\"type\":\"scatterpolar\",\"marker\":{\"colorbar\":{\"outlinewidth\":0,\"ticks\":\"\"}}}],\"histogram\":[{\"marker\":{\"pattern\":{\"fillmode\":\"overlay\",\"size\":10,\"solidity\":0.2}},\"type\":\"histogram\"}],\"scattergl\":[{\"type\":\"scattergl\",\"marker\":{\"colorbar\":{\"outlinewidth\":0,\"ticks\":\"\"}}}],\"scatter3d\":[{\"type\":\"scatter3d\",\"line\":{\"colorbar\":{\"outlinewidth\":0,\"ticks\":\"\"}},\"marker\":{\"colorbar\":{\"outlinewidth\":0,\"ticks\":\"\"}}}],\"scattermapbox\":[{\"type\":\"scattermapbox\",\"marker\":{\"colorbar\":{\"outlinewidth\":0,\"ticks\":\"\"}}}],\"scatterternary\":[{\"type\":\"scatterternary\",\"marker\":{\"colorbar\":{\"outlinewidth\":0,\"ticks\":\"\"}}}],\"scattercarpet\":[{\"type\":\"scattercarpet\",\"marker\":{\"colorbar\":{\"outlinewidth\":0,\"ticks\":\"\"}}}],\"carpet\":[{\"aaxis\":{\"endlinecolor\":\"#2a3f5f\",\"gridcolor\":\"white\",\"linecolor\":\"white\",\"minorgridcolor\":\"white\",\"startlinecolor\":\"#2a3f5f\"},\"baxis\":{\"endlinecolor\":\"#2a3f5f\",\"gridcolor\":\"white\",\"linecolor\":\"white\",\"minorgridcolor\":\"white\",\"startlinecolor\":\"#2a3f5f\"},\"type\":\"carpet\"}],\"table\":[{\"cells\":{\"fill\":{\"color\":\"#EBF0F8\"},\"line\":{\"color\":\"white\"}},\"header\":{\"fill\":{\"color\":\"#C8D4E3\"},\"line\":{\"color\":\"white\"}},\"type\":\"table\"}],\"barpolar\":[{\"marker\":{\"line\":{\"color\":\"#E5ECF6\",\"width\":0.5},\"pattern\":{\"fillmode\":\"overlay\",\"size\":10,\"solidity\":0.2}},\"type\":\"barpolar\"}],\"pie\":[{\"automargin\":true,\"type\":\"pie\"}]},\"layout\":{\"autotypenumbers\":\"strict\",\"colorway\":[\"#636efa\",\"#EF553B\",\"#00cc96\",\"#ab63fa\",\"#FFA15A\",\"#19d3f3\",\"#FF6692\",\"#B6E880\",\"#FF97FF\",\"#FECB52\"],\"font\":{\"color\":\"#2a3f5f\"},\"hovermode\":\"closest\",\"hoverlabel\":{\"align\":\"left\"},\"paper_bgcolor\":\"white\",\"plot_bgcolor\":\"#E5ECF6\",\"polar\":{\"bgcolor\":\"#E5ECF6\",\"angularaxis\":{\"gridcolor\":\"white\",\"linecolor\":\"white\",\"ticks\":\"\"},\"radialaxis\":{\"gridcolor\":\"white\",\"linecolor\":\"white\",\"ticks\":\"\"}},\"ternary\":{\"bgcolor\":\"#E5ECF6\",\"aaxis\":{\"gridcolor\":\"white\",\"linecolor\":\"white\",\"ticks\":\"\"},\"baxis\":{\"gridcolor\":\"white\",\"linecolor\":\"white\",\"ticks\":\"\"},\"caxis\":{\"gridcolor\":\"white\",\"linecolor\":\"white\",\"ticks\":\"\"}},\"coloraxis\":{\"colorbar\":{\"outlinewidth\":0,\"ticks\":\"\"}},\"colorscale\":{\"sequential\":[[0.0,\"#0d0887\"],[0.1111111111111111,\"#46039f\"],[0.2222222222222222,\"#7201a8\"],[0.3333333333333333,\"#9c179e\"],[0.4444444444444444,\"#bd3786\"],[0.5555555555555556,\"#d8576b\"],[0.6666666666666666,\"#ed7953\"],[0.7777777777777778,\"#fb9f3a\"],[0.8888888888888888,\"#fdca26\"],[1.0,\"#f0f921\"]],\"sequentialminus\":[[0.0,\"#0d0887\"],[0.1111111111111111,\"#46039f\"],[0.2222222222222222,\"#7201a8\"],[0.3333333333333333,\"#9c179e\"],[0.4444444444444444,\"#bd3786\"],[0.5555555555555556,\"#d8576b\"],[0.6666666666666666,\"#ed7953\"],[0.7777777777777778,\"#fb9f3a\"],[0.8888888888888888,\"#fdca26\"],[1.0,\"#f0f921\"]],\"diverging\":[[0,\"#8e0152\"],[0.1,\"#c51b7d\"],[0.2,\"#de77ae\"],[0.3,\"#f1b6da\"],[0.4,\"#fde0ef\"],[0.5,\"#f7f7f7\"],[0.6,\"#e6f5d0\"],[0.7,\"#b8e186\"],[0.8,\"#7fbc41\"],[0.9,\"#4d9221\"],[1,\"#276419\"]]},\"xaxis\":{\"gridcolor\":\"white\",\"linecolor\":\"white\",\"ticks\":\"\",\"title\":{\"standoff\":15},\"zerolinecolor\":\"white\",\"automargin\":true,\"zerolinewidth\":2},\"yaxis\":{\"gridcolor\":\"white\",\"linecolor\":\"white\",\"ticks\":\"\",\"title\":{\"standoff\":15},\"zerolinecolor\":\"white\",\"automargin\":true,\"zerolinewidth\":2},\"scene\":{\"xaxis\":{\"backgroundcolor\":\"#E5ECF6\",\"gridcolor\":\"white\",\"linecolor\":\"white\",\"showbackground\":true,\"ticks\":\"\",\"zerolinecolor\":\"white\",\"gridwidth\":2},\"yaxis\":{\"backgroundcolor\":\"#E5ECF6\",\"gridcolor\":\"white\",\"linecolor\":\"white\",\"showbackground\":true,\"ticks\":\"\",\"zerolinecolor\":\"white\",\"gridwidth\":2},\"zaxis\":{\"backgroundcolor\":\"#E5ECF6\",\"gridcolor\":\"white\",\"linecolor\":\"white\",\"showbackground\":true,\"ticks\":\"\",\"zerolinecolor\":\"white\",\"gridwidth\":2}},\"shapedefaults\":{\"line\":{\"color\":\"#2a3f5f\"}},\"annotationdefaults\":{\"arrowcolor\":\"#2a3f5f\",\"arrowhead\":0,\"arrowwidth\":1},\"geo\":{\"bgcolor\":\"white\",\"landcolor\":\"#E5ECF6\",\"subunitcolor\":\"white\",\"showland\":true,\"showlakes\":true,\"lakecolor\":\"white\"},\"title\":{\"x\":0.05},\"mapbox\":{\"style\":\"light\"}}},\"scene\":{\"domain\":{\"x\":[0.0,1.0],\"y\":[0.0,1.0]},\"xaxis\":{\"title\":{\"text\":\"X\"}},\"yaxis\":{\"title\":{\"text\":\"Y\"}},\"zaxis\":{\"title\":{\"text\":\"Z\"}}},\"legend\":{\"title\":{\"text\":\"Category\"},\"tracegroupgap\":0},\"title\":{\"text\":\"3D Scatter Plot Example\"}},                        {\"responsive\": true}                    ).then(function(){\n",
              "                            \n",
              "var gd = document.getElementById('f94c880a-e0ab-4af4-9cb7-35e58e09d895');\n",
              "var x = new MutationObserver(function (mutations, observer) {{\n",
              "        var display = window.getComputedStyle(gd).display;\n",
              "        if (!display || display === 'none') {{\n",
              "            console.log([gd, 'removed!']);\n",
              "            Plotly.purge(gd);\n",
              "            observer.disconnect();\n",
              "        }}\n",
              "}});\n",
              "\n",
              "// Listen for the removal of the full notebook cells\n",
              "var notebookContainer = gd.closest('#notebook-container');\n",
              "if (notebookContainer) {{\n",
              "    x.observe(notebookContainer, {childList: true});\n",
              "}}\n",
              "\n",
              "// Listen for the clearing of the current output cell\n",
              "var outputEl = gd.closest('.output');\n",
              "if (outputEl) {{\n",
              "    x.observe(outputEl, {childList: true});\n",
              "}}\n",
              "\n",
              "                        })                };                            </script>        </div>\n",
              "</body>\n",
              "</html>"
            ]
          },
          "metadata": {}
        }
      ]
    },
    {
      "cell_type": "code",
      "source": [],
      "metadata": {
        "id": "bI5MGewLVxHT"
      },
      "execution_count": null,
      "outputs": []
    }
  ]
}